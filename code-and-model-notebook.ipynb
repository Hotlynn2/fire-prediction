{
  "nbformat": 4,
  "nbformat_minor": 0,
  "metadata": {
    "colab": {
      "name": "next-frame-prediction.ipynb",
      "provenance": []
    },
    "kernelspec": {
      "name": "python3",
      "display_name": "Python 3"
    },
    "language_info": {
      "name": "python"
    },
    "accelerator": "GPU"
  },
  "cells": [
    {
      "cell_type": "markdown",
      "metadata": {
        "id": "WWr5YAtJsM2o"
      },
      "source": [
        "## Mount Your Google Drive\n",
        "\n",
        "Run this cell if running on google colab to avodid losing data when runtime restarts"
      ]
    },
    {
      "cell_type": "code",
      "metadata": {
        "id": "DXVRd9oJrpcl",
        "colab": {
          "base_uri": "https://localhost:8080/"
        },
        "outputId": "4854e16c-dbe9-4710-f2c7-857e5fd6628c"
      },
      "source": [
        "from google.colab import drive\n",
        "drive.mount('/content/drive', force_remount=True)"
      ],
      "execution_count": null,
      "outputs": [
        {
          "output_type": "stream",
          "text": [
            "Mounted at /content/drive\n"
          ],
          "name": "stdout"
        }
      ]
    },
    {
      "cell_type": "markdown",
      "metadata": {
        "id": "8NTv7JUM5Q7J"
      },
      "source": [
        "## Clone files and pip install \"dominate\""
      ]
    },
    {
      "cell_type": "code",
      "metadata": {
        "colab": {
          "base_uri": "https://localhost:8080/"
        },
        "id": "2jHRfOJ7u2iH",
        "outputId": "d7b7db54-cc42-40e3-f3a7-6ef26a7d226b"
      },
      "source": [
        "import os\n",
        "if os.path.isdir(\"/content/drive/MyDrive/next-frame-prediction/fire-prediction/\"):\n",
        "    %cd /content/drive/MyDrive/next-frame-prediction/fire-prediction/\n",
        "    # !git pull\n",
        "    !pip install dominate\n",
        "else:\n",
        "    %cd /content/drive/MyDrive\n",
        "    !mkdir next-frame-prediction\n",
        "    %cd next-frame-prediction\n",
        "    !git clone https://github.com/Hotlynn2/fire-prediction\n",
        "    !pip install dominate\n",
        "    %cd fire-prediction/"
      ],
      "execution_count": null,
      "outputs": [
        {
          "output_type": "stream",
          "text": [
            "/content/drive/MyDrive/next-frame-prediction/fire-prediction\n",
            "Collecting dominate\n",
            "  Downloading https://files.pythonhosted.org/packages/ef/a8/4354f8122c39e35516a2708746d89db5e339c867abbd8e0179bccee4b7f9/dominate-2.6.0-py2.py3-none-any.whl\n",
            "Installing collected packages: dominate\n",
            "Successfully installed dominate-2.6.0\n"
          ],
          "name": "stdout"
        }
      ]
    },
    {
      "cell_type": "markdown",
      "metadata": {
        "id": "OBA2JQ7kvslP"
      },
      "source": [
        "## Extract frames from video ( .gif / .mov/ .mp4 )\n",
        "\n",
        "Upload a video to either Colab or Google Drive.\n",
        "\n",
        "* `-video` is the path to the video file\n",
        "* `-name` should be a unique name \n",
        "* `-width` and `-height` of the frames you want to extract\n",
        "* `-p2pdir` leave as `.` "
      ]
    },
    {
      "cell_type": "code",
      "metadata": {
        "colab": {
          "base_uri": "https://localhost:8080/"
        },
        "id": "xIfTLu3Rvre4",
        "outputId": "efd44e76-cd6b-4542-e830-d56ae523d1b8"
      },
      "source": [
        "!python extract_frames.py -video /content/drive/MyDrive/next-frame-prediction/animated_timeseries.gif -name fireprediction -p2pdir . -width 800 -height 736"
      ],
      "execution_count": null,
      "outputs": [
        {
          "output_type": "stream",
          "text": [
            "creating the dataset structure\n",
            "ffmpeg -v 16 -i /content/drive/MyDrive/next-frame-prediction/animated_timeseries.gif -q:v 2 -vf \"scale=iw*736/ih:736, crop=800:736\" /content/drive/MyDrive/next-frame-prediction/fire-prediction/datasets/fireprediction/train_frames/frame-%06d.jpg -hide_banner\n",
            "extracting the frames\n"
          ],
          "name": "stdout"
        }
      ]
    },
    {
      "cell_type": "markdown",
      "metadata": {
        "id": "OSsXurBrxIpz"
      },
      "source": [
        "## Train your model"
      ]
    },
    {
      "cell_type": "markdown",
      "metadata": {
        "id": "zQEtfCqjx7Ul"
      },
      "source": [
        "### Initial training\n",
        "\n",
        "*   `--name` should be a unique name. For your sanity I recommend using the same `-name` as above.\n",
        "*   `--dataroot` should point to your dataset. This will usually be in `./datasets/[your project name]`\n",
        "*   `--save_epoch_freq`  number that will represent epoch model to save periodically until training completes\n",
        "\n",
        "Note: if you have a large dataset, this may timeout initially (`ValueError: __len__() should return >= 0`). Give it a minute or two and run it again.\n"
      ]
    },
    {
      "cell_type": "code",
      "metadata": {
        "id": "uWZFTswtxJwO"
      },
      "source": [
        "!python train_video.py --name fireprediction --dataroot /content/next-frame-prediction/fire-prediction/datasets/fireprediction/ --save_epoch_freq 50"
      ],
      "execution_count": null,
      "outputs": []
    },
    {
      "cell_type": "markdown",
      "metadata": {
        "id": "ueFOKExE0kVV"
      },
      "source": [
        "### Continue Training\n",
        "To pick up from a previous training session run the same command you ran to start with and append `--continue_train` to the end of the command."
      ]
    },
    {
      "cell_type": "code",
      "metadata": {
        "id": "XqcDnjua0nGo"
      },
      "source": [
        "!python train_video.py --name fireprediction --dataroot ./datasets/fireprediction/ --save_epoch_freq 5 --continue_train"
      ],
      "execution_count": null,
      "outputs": []
    },
    {
      "cell_type": "markdown",
      "metadata": {
        "id": "jqmSlA-W2Mfj"
      },
      "source": [
        "#Generating Videos\n",
        "\n",
        "To generate a video from your completed model, run the `generate_video.py` script. I recommend keeping the `--name` and `--dataroot` arguments the same, but you can change it if you want to.\n",
        "\n",
        "There are a number of additional arguments you’ll need to include in this command:\n",
        "\n",
        "\n",
        "*   `--fps` frame rate for your video\n",
        "*   `--how_many` how many frames you want to create (this + fps = video length)\n",
        "*   `--which_epoch` which epoch you want to generate videos from (note: if you choose `104` but there’s no epoch 104 model file, this will throw an error)\n",
        "*   `--start_from` by default your video will start predicting images from the 60th frame of your training set. You can pass in the path to a different frame to have it start from that frame\n"
      ]
    },
    {
      "cell_type": "code",
      "metadata": {
        "id": "Lvsq53Ii2PMv"
      },
      "source": [
        "!python generate_video.py --name fireprediction --dataroot ./datasets/fireprediction/ --fps 24 --how_many 100 --which_epoch latest --start_from "
      ],
      "execution_count": null,
      "outputs": []
    }
  ]
}